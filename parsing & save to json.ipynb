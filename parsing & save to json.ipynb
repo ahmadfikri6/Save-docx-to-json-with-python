{
 "cells": [
  {
   "cell_type": "code",
   "execution_count": 1,
   "id": "c4630b9e",
   "metadata": {},
   "outputs": [],
   "source": [
    "import re\n",
    "import json\n",
    "import os\n",
    "import docx"
   ]
  },
  {
   "cell_type": "code",
   "execution_count": 2,
   "id": "dfca4519",
   "metadata": {},
   "outputs": [],
   "source": [
    "r = {\"andri\":\"pakai bahasa Indonesia terus ngecek dulu apa namanya suaranya masuk ke Trans apa enggak Soalnya ke transfer dari tadi nama Kuto.\"}"
   ]
  },
  {
   "cell_type": "code",
   "execution_count": 3,
   "id": "cd6105bd",
   "metadata": {},
   "outputs": [
    {
     "name": "stdout",
     "output_type": "stream",
     "text": [
      "{\n",
      "    \"andri\" : \"pakai bahasa Indonesia terus ngecek dulu apa namanya suaranya masuk ke Trans apa enggak Soalnya ke transfer dari tadi nama Kuto.\"\n",
      "}\n"
     ]
    }
   ],
   "source": [
    "print(json.dumps(r, indent= 4, separators=(\". \",\" : \")))"
   ]
  },
  {
   "cell_type": "code",
   "execution_count": 4,
   "id": "1adcd5b2",
   "metadata": {},
   "outputs": [
    {
     "name": "stdout",
     "output_type": "stream",
     "text": [
      "{'andri': 'pakai bahasa Indonesia terus ngecek dulu apa namanya suaranya masuk ke Trans apa enggak Soalnya ke transfer dari tadi nama Kuto.'}\n"
     ]
    }
   ],
   "source": [
    "print(r)"
   ]
  },
  {
   "cell_type": "code",
   "execution_count": 5,
   "id": "e3454cdb",
   "metadata": {
    "scrolled": true
   },
   "outputs": [],
   "source": [
    "doc = open(\"Record.docx\",\"rb\")\n",
    "\n",
    "# membuat word reader object\n",
    "document = docx.Document(doc)\n",
    "\n",
    "#membuat variabel yang kosong untuk temporary\n",
    "docu=\"\"\n",
    "for para in document.paragraphs:\n",
    "       docu += para.text\n"
   ]
  },
  {
   "cell_type": "code",
   "execution_count": 6,
   "id": "2f77e755",
   "metadata": {},
   "outputs": [],
   "source": [
    "sentences = re.findall(r'^\"(.*)\"$',docu)\n",
    "for i in sentences:\n",
    "    print (i)"
   ]
  },
  {
   "cell_type": "code",
   "execution_count": 7,
   "id": "ce3374d7",
   "metadata": {},
   "outputs": [],
   "source": [
    "sentencee = re.findall(r'([a-zA-Z]+)\\:([\\w]+[\\D]+\\.)',docu)"
   ]
  },
  {
   "cell_type": "code",
   "execution_count": 8,
   "id": "16a6742c",
   "metadata": {},
   "outputs": [
    {
     "ename": "NameError",
     "evalue": "name 'sentence' is not defined",
     "output_type": "error",
     "traceback": [
      "\u001b[1;31m---------------------------------------------------------------------------\u001b[0m",
      "\u001b[1;31mNameError\u001b[0m                                 Traceback (most recent call last)",
      "\u001b[1;32m<ipython-input-8-1882221ed3c3>\u001b[0m in \u001b[0;36m<module>\u001b[1;34m\u001b[0m\n\u001b[1;32m----> 1\u001b[1;33m \u001b[1;32mfor\u001b[0m \u001b[0mi\u001b[0m \u001b[1;32min\u001b[0m \u001b[0msentence\u001b[0m\u001b[1;33m:\u001b[0m\u001b[1;33m\u001b[0m\u001b[1;33m\u001b[0m\u001b[0m\n\u001b[0m\u001b[0;32m      2\u001b[0m     \u001b[0mname_test\u001b[0m \u001b[1;33m=\u001b[0m \u001b[1;34m\"nama :\"\u001b[0m\u001b[1;33m\u001b[0m\u001b[1;33m\u001b[0m\u001b[0m\n\u001b[0;32m      3\u001b[0m     \u001b[0misi_test\u001b[0m \u001b[1;33m=\u001b[0m \u001b[1;34m\"isi :\"\u001b[0m\u001b[1;33m\u001b[0m\u001b[1;33m\u001b[0m\u001b[0m\n\u001b[0;32m      4\u001b[0m     \u001b[0mname_test\u001b[0m \u001b[1;33m+=\u001b[0m \u001b[0mi\u001b[0m\u001b[1;33m[\u001b[0m\u001b[1;36m0\u001b[0m\u001b[1;33m]\u001b[0m\u001b[1;33m\u001b[0m\u001b[1;33m\u001b[0m\u001b[0m\n\u001b[0;32m      5\u001b[0m     \u001b[0misi_test\u001b[0m \u001b[1;33m+=\u001b[0m \u001b[0mi\u001b[0m\u001b[1;33m[\u001b[0m\u001b[1;36m1\u001b[0m\u001b[1;33m]\u001b[0m\u001b[1;33m\u001b[0m\u001b[1;33m\u001b[0m\u001b[0m\n",
      "\u001b[1;31mNameError\u001b[0m: name 'sentence' is not defined"
     ]
    }
   ],
   "source": [
    "for i in sentence:\n",
    "    name_test = \"nama :\"\n",
    "    isi_test = \"isi :\"\n",
    "    name_test += i[0]\n",
    "    isi_test += i[1]\n",
    "\n",
    "# data = (\"nama :\" name_test, \"isi :\": )\n",
    "    print (name_test, isi_test)"
   ]
  },
  {
   "cell_type": "code",
   "execution_count": null,
   "id": "d8235d29",
   "metadata": {
    "scrolled": true
   },
   "outputs": [],
   "source": [
    "x = (sentencee)\n",
    "y = json.dumps(x)\n",
    "print(y)"
   ]
  },
  {
   "cell_type": "code",
   "execution_count": null,
   "id": "03e36d1a",
   "metadata": {},
   "outputs": [],
   "source": []
  },
  {
   "cell_type": "code",
   "execution_count": 9,
   "id": "bd797959",
   "metadata": {
    "scrolled": true
   },
   "outputs": [
    {
     "name": "stdout",
     "output_type": "stream",
     "text": [
      "('andri', 'selamat siang.')\n",
      "('andri', 'halo.')\n",
      "('andri', 'Nindy.')\n",
      "('andri', 'toko baju sing melu.')\n",
      "('andri', 'Kenalkan nama saya Joko.')\n",
      "('yoga', 'cek cek cek.')\n",
      "('andri', 'ngomong opo.')\n",
      "('andri', 'Terjemahkan sini terus ngomong sih.')\n",
      "('andri', 'pakai bahasa Indonesia terus ngecek dulu apa namanya suaranya masuk ke Trans apa enggak Soalnya ke transfer dari tadi nama Kuto.')\n",
      "('andri', '10 detik aja Udin.')\n",
      "('andri', 'bentar ya.')\n",
      "('andri', 'Yoga.')\n",
      "('andri', 'ini Mas sama-sama ya.')\n",
      "('yoga', 'halo.')\n",
      "('yoga', 'Udan deres karo angin.')\n",
      "('andri', 'cuaca.')\n",
      "('andri', 'kau keong racun.')\n",
      "('andri', 'telur.')\n",
      "('andri', 'selamat sore.')\n",
      "('yoga', 'selamat.')\n",
      "('andri', 'Ayo kita ke angkringan sebelah.')\n",
      "('muizz', 'selamat sore.')\n",
      "('muizz', 'Horas bah.')\n",
      "('muizz', 'aku teh.')\n",
      "('andri', 'mungkin ini akan segera dimulai.')\n",
      "('andri', 'untuk mempersiapkan diri.')\n",
      "('muizz', 'cek cek.')\n",
      "('muizz', 'Halo Halo Neng.')\n",
      "('muizz', 'internet tekan orang.')\n",
      "('muizz', 'Nikki Bella.')\n",
      "('andri', 'bentar aku ngecek dulu ya Tes tes tes.')\n",
      "('muizz', 'Assalamualaikum warahmatullahi wabarakatuh.')\n",
      "('rahmad', 'saya.')\n",
      "('muizz', 'lebay aku.')\n",
      "('rahmad', 'kurang Tengah kok.')\n",
      "('rahmad', 'gantian.')\n",
      "('rahmad', 'kurang Tengah ini adalah pertemuan awal untuk.')\n",
      "('muizz', 'kurang Tengah ini adalah pertemuan awal untuk proyek Dhani.')\n",
      "('rahmad', 'hanya untuk membuat kita saling mengenal saya Laura dan saya manajer proyek mau-mau memperkenalkan diri lagi.')\n",
      "('rahmad', 'mulai.')\n",
      "('rahmad', 'ulang ulang ulang ulang.')\n",
      "('rahmad', 'mau memperkenalkan diri lagi.')\n",
      "('andri', 'Hai saya David dan Raya seharusnya menjadi disainer industri.')\n",
      "('muizz', 'Saya baik dan saya antarmuka pengguna.')\n",
      "('rahmad', 'kami merancang remote control baru dan harus merekam Siapa sebenarnya yang ada di sini.')\n",
      "('rahmad', 'embrio dan trik bukan dan anda semua tiba tepat waktu.')\n",
      "('rahmad', 'remote control baru seperti yang Anda lihat itu seharusnya asli trendy dan ramah pengguna jadi itu singkat kami seolah-olah dan jadi ada tiga tahap yang berbeda untuk desain Saya tidak benar-benar apa yang telah anda terima di email anda.')\n",
      "('rahmad', 'apa yang kamu dapatkan.')\n",
      "('rahmad', 'Apakah itu yang semua orang dapatkan.')\n",
      "('yoga', 'pikir keluarga saya.')\n",
      "('muizz', 'berada di atas sana bersama mereka.')\n",
      "('andri', 'ada terlalu banyak peralatan.')\n",
      "('rahmad', 'Anda dapat mengambil selama ini yang anda suka karena kita tidak punya banyak hal untuk dibahas.')\n",
      "('yoga', 'bisa memberitahu anda lebih banyak tentang anjing.')\n",
      "('yoga', 'Tiger.')\n",
      "('rahmad', 'Kenapa tidak kita mungkin harus membangunkanmu lagi.')\n",
      "('yoga', 'biarkan aku memberitahumu.')\n",
      "('rahmad', 'familiku Aku Harus berpikir di tempat sekarang apakah itu Paus.')\n",
      "('andri', 'lagi pula itu hanya hewan pertama yang berpikir dari atas kepalaku.')\n",
      "('andri', 'alasan utamanya adalah karena saya alergi terhadap sebagian besar hewan terhadap bulu binatang jadi ikan adalah pilihan alami dan seperti ikan paus mereka masuk dan pergi makan segala sesuatu yang terlihat dan mereka cukup tidak berbahaya dan ringan dan menarik.')\n",
      "('rahmad', 'apa yang saya akan menulis tentang.')\n",
      "('yoga', 'yang luar biasa omong-omong.')\n",
      "('andri', 'agak besar.')\n",
      "('rahmad', 'akan memilih anjing sebagai tapi saya hanya akan menggambar anjing yang berbeda hewan favorit saya adalah anjing saya sendiri di rumah.')\n",
      "('yoga', 'melihat anjing disana.')\n",
      "('rahmad', 'sangat baik darimu.')\n",
      "('yoga', 'sekarang lihat ayam jago.')\n",
      "('rahmad', 'campuran dari berbagai hal dan apa yang disukai tentang dia itu hanya untuk menunjukkan bahwa ekornya bergoyang Dia sangat ramah dan ceria dan selalu senang melihat anda dan sangat penyayang dan dia cukup kecil sehingga dia tidak memakan terlalu banyak ruang dan dia melakukan hal lucu dimana dia mengejar ekornya yang cukup jadi begitulah.')\n",
      "('yoga', 'Apakah dia sadar bahwa itu adalah ekor hanya sendiri yang dia kejar.')\n",
      "('rahmad', 'hanya melakukan Setelah dia makan malam dan dia akan tiba-tiba bangun dan mulai mengejar ekornya di sekitar ruang tamu.')\n",
      "('rahmad', 'itu anjing.')\n",
      "('andri', 'itu anjing setelah makan malam.')\n",
      "('yoga', 'mungkin ketika dia masih kecil dia mendapat banyak Perhatian untuk melakukannya.')\n",
      "('yoga', 'dan telah selamanya dikondisikan.')\n",
      "('rahmad', 'membahas pembiayaan proyek.')\n",
      "('rahmad', 'itu pertanyaan yang bagus.')\n",
      "('rahmad', 'mainkan itu mungkin penjualan Kami sebenarnya karena mungkin terserah pengecer untuk menjualnya dengan harga berapa pun yang mereka inginkan tapi apakah menurut fakta bahwa itu akan dijual secara internasional dan akan berpengaruh pada Bagaimana kami mendesain ya.')\n",
      "('rahmad', 'daerah dan.')\n",
      "('yoga', 'frekuensi sebagai karakter gaya dan simbol keypad yang berbeda.')\n",
      "('rahmad', 'frekuensi sebagai karakter gaya yang berbeda.')\n",
      "('rahmad', 'remote control kira-kira itu tergantung seberapa rumit remot kontrol kita.')\n",
      "('andri', 'itu masuk akal dari sudut pandang desain karena memiliki karakter yang lebih rumit seperti bahasa Eropa.')\n",
      "('andri', 'maka anda memerlukan lebih banyak tombol Jadi mungkin.')\n",
      "('yoga', 'dan kemudian semua hal internasional lainnya berada diatas harga.')\n",
      "('yoga', 'mungkin menarik untuk pasar tertentu di suatu wilayah sedangkan di wilayah lain akan berbeda.')\n",
      "('yoga', 'statistik dari posisi Podi produk dasar yang adil atau sama.')\n",
      "('yoga', 'suatu sesuatu seperti itu.')\n",
      "('rahmad', 'seperti dalam hal seperti kekayaan negara seperti seberapa banyak uang yang harus dikeluarkan orang untuk hal-hal seperti.')\n",
      "('rahmad', 'harus menulis semua ini.')\n",
      "('yoga', 'jauh saya membuat beberapa asumsi tentang informasi.')\n",
      "('yoga', 'apa yang kami berikan disini berpikir trendy mungkin berarti sesuatu yang lain dari sekedar dasar sesuatu yang lain dari sekedar standar.')\n",
      "('rahmad', 'seperti Berapa biaya remote control.')\n",
      "('rahmad', 'ada yang punya sesuatu untuk ditambahkan ke masalah keuangan.')\n",
      "('yoga', 'Apakah kita memiliki informasi latar belakang lain seperti bagaimana dibandingkan dengan yang lain.')\n",
      "('rahmad', 'sebenarnya yang akan berguna meskipun bukan jika anda tahu seperti apa uang anda yang akan mendapat.')\n",
      "('yoga', 'hal yang menarik tentang mendiskusikan produksi remote control bagi saya adalah bahwa Seperti yang anda tunjukkan Jangan menganggap remote control sebagai sesuatu yang secara sadar dinilai orang dalam kebiasaan pembelian mereka.')\n",
      "('yoga', 'seperti mendapatkan tali sepatu dengan sepatu.')\n",
      "('yoga', 'itu datang begitu saja.')\n",
      "('rahmad', '5 menit Menuju Akhir pertemuan kita sedikit di belakang.')\n",
      "('yoga', 'seperti Bagaimana anda salah satu cara untuk melihatnya orang-orang memproduksi televisi mereka harus membeli remote control atau cara lain adalah orang-orang memilih TV set benar-benar muak dengan remote control mereka dan mereka benar-benar menginginkan yang lebih baik.')\n",
      "('muizz', 'bagi mereka itu hanya beberapa banyak perangkat kontrol.')\n",
      "('yoga', 'jadi jadi dalam fungsi salah satu prioritas mungkin untuk menggabungkan banyak kegunaan jadi.')\n",
      "('rahmad', 'jadi Menurut Anda itu harus seperti tujuan desain utama remote control kami.')\n",
      "('yoga', 'seperti yang bisa kita gunakan adalah seperti contoh teknologi bagian lain yang sukses adalah pilot sawit.')\n",
      "('yoga', 'berubah dari hanya.')\n",
      "('yoga', 'segalanya agenda.')\n",
      "('rahmad', 'bahkan seperti catatan tentang apa yang ingin anda tonton.')\n",
      "('yoga', 'seperti secara pribadi bagi saya di rumah saya telah menggabungkan video audio dari pesawat Televisi saya.')\n",
      "('yoga', 'bahwa kemudian mereka ada di sana suara dan semuanya itu hanya satu sistem.')\n",
      "('yoga', 'bagian kecilnya sendiri.')\n",
      "('rahmad', 'akan baik.')\n",
      "('rahmad', 'ingin ditambah apa yang tidak mereka sukai tentang kendali jarak jauh yang telah mereka gunakan Apa yang sebenarnya mereka inginkan untuk menjadi bagian dari yang baru ini.')\n",
      "('andri', 'dengan canda terus kehilangan mereka.')\n",
      "('rahmad', 'terus kehilangan mereka.')\n",
      "('andri', 'kamu kan mereka benar-benar menyakitkan itu biasanya cukup kecil atau Ketika anda menginginkannya itu tergelincir di belakang sofa atau ditendang di bawah meja.')\n",
      "('rahmad', 'bukan mereka belajar menyakitkan biasanya kecil atau.')\n",
      "('rahmad', 'Anda mendapatkan orang-orang Dimana anda bisa jika anda suka bersiul atau membuat suara bernada sangat tinggi mereka berbunyi B.')\n",
      "('yoga', 'itu hanya ide yang sangat bagus.')\n",
      "('rahmad', 'ada sesuatu yang ingin kami sertakan menurut anda.')\n",
      "('yoga', 'ingat ketika remote control pertama yang dimiliki keluarga saya menggunakan kabel.')\n",
      "('yoga', 'tentang apa mereka sekarang itu lebih baik tapi sebenarnya masih seperti barang rongsokan besar di atas meja.')\n",
      "('rahmad', 'masih terasa cukup primitif.')\n",
      "('yoga', 'kita bisa memikirkan bagaimana biar bisa lebih efisien.')\n",
      "('rahmad', 'layar sentuh.')\n",
      "('rahmad', 'terserah designer industri kami.')\n",
      "('rahmad', 'itu terlihat lebih baik.')\n",
      "('rahmad', 'sekarang dan nanti sebagai desainer industri anda akan mengerjakan desain kerja yang sebenarnya jadi apa yang anda lakukan di sana untuk antarmuka pengguna fungsi teknis seperti yang telah kita bicarakan Apa yang sebenarnya anda lakukan dalam eksekutif pemasaran anda hanya akan berpikir tentang apa sebenarnya itu persyaratan apa yang harus dipenuhi dan semua akan mendapatkan instruksi yang dikirim melalui email kepada anda.')\n",
      "('rahmad', 'fungsional berikutnya dan itulah akhir pertemuan jadi dapatkan pesan kecil itu lebih cepat dari yang seharusnya jadi.')\n",
      "('yoga', 'belum kita selesai.')\n",
      "('yoga', 'beri contoh mesin kopi.')\n",
      "('yoga', 'kita sekarang berada pada asumsi bahwa remote control televisi kita mungkin memiliki fitur yang melampaui televisi atau apakah kita menjaga komitmen desain seperti fitur televisi.')\n",
      "('rahmad', 'saya sangat cepat karena kita harus menyelesaikannya sekarang.')\n",
      "('rahmad', 'itu terserah kami anda mungkin ingin beberapa nilai jual yang unik jadi.')\n",
      "('andri', 'salah satu faktornya adalah biaya produksi.')\n",
      "('andri', 'karena ada batasnya Jadi tergantung seberapa banyak Anda bisa menjejalkan kedalam harga itu bahwa itu mau.')\n",
      "('rahmad', 'kita kan itu pakai pertemuan kemudian.')\n",
      "('rahmad', 'semua untuk datang.')\n"
     ]
    }
   ],
   "source": [
    "sentencee = re.findall(r'([a-zA-Z]+)\\:([\\w]+[\\D]+\\.)',docu)\n",
    "for i in sentencee:\n",
    "    print (i)"
   ]
  },
  {
   "cell_type": "code",
   "execution_count": null,
   "id": "68a3e138",
   "metadata": {},
   "outputs": [],
   "source": [
    "# # name = (n[0])\n",
    "# # isi= (n[1])\n",
    "# i = 0\n",
    "# # bakal_isi = [name, isi]\n",
    "# w = (sentence)\n",
    "# while i < len(w):\n",
    "#     name = w[0]\n",
    "#     isi = w[1]\n",
    "#     person_json = {\"nama\": name, \"isi\": isi}\n",
    "# #     i += 1\n",
    "        \n",
    "# #     datanya = {\"Percakapan \" : person_json}\n",
    "    \n",
    "# out_file = open(\"My Record36.json\", \"w\")\n",
    "# json.dump(w, out_file, indent = 4, sort_keys=True)\n",
    "# out_file.close()"
   ]
  },
  {
   "cell_type": "code",
   "execution_count": 28,
   "id": "f3d7fa83",
   "metadata": {},
   "outputs": [
    {
     "ename": "NameError",
     "evalue": "name 'sentence' is not defined",
     "output_type": "error",
     "traceback": [
      "\u001b[1;31m---------------------------------------------------------------------------\u001b[0m",
      "\u001b[1;31mNameError\u001b[0m                                 Traceback (most recent call last)",
      "\u001b[1;32m<ipython-input-28-bfec67a05a00>\u001b[0m in \u001b[0;36m<module>\u001b[1;34m\u001b[0m\n\u001b[0;32m      1\u001b[0m \u001b[0mdata\u001b[0m \u001b[1;33m=\u001b[0m \u001b[1;33m{\u001b[0m\u001b[1;33m}\u001b[0m\u001b[1;33m\u001b[0m\u001b[1;33m\u001b[0m\u001b[0m\n\u001b[0;32m      2\u001b[0m \u001b[1;32mfor\u001b[0m \u001b[0mi\u001b[0m \u001b[1;32min\u001b[0m \u001b[0msorted\u001b[0m\u001b[1;33m(\u001b[0m\u001b[0mset\u001b[0m\u001b[1;33m(\u001b[0m\u001b[0msentencee\u001b[0m\u001b[1;33m)\u001b[0m\u001b[1;33m)\u001b[0m\u001b[1;33m:\u001b[0m\u001b[1;33m\u001b[0m\u001b[1;33m\u001b[0m\u001b[0m\n\u001b[1;32m----> 3\u001b[1;33m     \u001b[1;32mfor\u001b[0m \u001b[0mj\u001b[0m \u001b[1;32min\u001b[0m \u001b[1;33m(\u001b[0m\u001b[0msentence\u001b[0m\u001b[1;33m)\u001b[0m\u001b[1;33m:\u001b[0m\u001b[1;33m\u001b[0m\u001b[1;33m\u001b[0m\u001b[0m\n\u001b[0m\u001b[0;32m      4\u001b[0m         \u001b[0mname\u001b[0m \u001b[1;33m=\u001b[0m \u001b[0mi\u001b[0m\u001b[1;33m[\u001b[0m\u001b[1;36m0\u001b[0m\u001b[1;33m]\u001b[0m\u001b[1;33m\u001b[0m\u001b[1;33m\u001b[0m\u001b[0m\n\u001b[0;32m      5\u001b[0m         \u001b[0misi\u001b[0m \u001b[1;33m=\u001b[0m \u001b[0mi\u001b[0m\u001b[1;33m[\u001b[0m\u001b[1;36m1\u001b[0m\u001b[1;33m]\u001b[0m\u001b[1;33m\u001b[0m\u001b[1;33m\u001b[0m\u001b[0m\n",
      "\u001b[1;31mNameError\u001b[0m: name 'sentence' is not defined"
     ]
    }
   ],
   "source": [
    "data = {}\n",
    "for i in sorted(set(sentencee)):\n",
    "    for j in (sentence):\n",
    "        name = i[0]\n",
    "        isi = i[1]\n",
    "       \n",
    "        data = {\"nama\": name, \"isi\": isi}\n",
    "    \n",
    "        \n",
    "        datanya = {\"Percakapan \": data}\n",
    "        \n",
    "\n",
    "with open(\"My Record71.json\", \"w\") as out_file:\n",
    "    json.dump(datanya, out_file, indent = 4, sort_keys=True)\n",
    "    out_file.close()"
   ]
  },
  {
   "cell_type": "code",
   "execution_count": null,
   "id": "07bcdfe4",
   "metadata": {},
   "outputs": [],
   "source": [
    "for n in sentence:\n",
    "#     nama = \"\"\n",
    "#     field = \"\"\n",
    "    nama += (n[0])\n",
    "    field += (n[1])\n",
    "    \n",
    "#     bakal_isi = [name, isi]\n",
    "    \n",
    "i = 0\n",
    "while i>len(sentence):             \n",
    "# creating dictionary for each employee\n",
    "    person = {\"nama\": nama, \"isi\": field}\n",
    "       \n",
    "    dataku = {\"Percakapan \" : [person]}\n",
    "    i = i + 1 \n",
    "#dict2[fields[i]]= description[i]\n",
    "        \n",
    "    \n",
    "#     person_json = ({\"nama\": name, \"isi\": isi})\n",
    "#     print += (name, isi)\n",
    "    \n",
    "# person_json = {\"isi\": (n[1]), \"nama\": (n[0])}\n",
    "    \n",
    "out_file = open(\"My Record43.json\", \"w\")\n",
    "json.dump(dataku, out_file, indent = 4, sort_keys=True)\n",
    "out_file.close()\n",
    "    \n",
    "# a = '{\"name\":,[0] , \"languages\":, [1]}'\n",
    "\n",
    "# fields =[[0], [1]]\n",
    "# j = json.dumps(sentences, indent= 2, sort_keys=True, separators=({\"Nama : \",\"isi :\"}))\n",
    "# with open('My Record06.json', 'w' ) as paragrap:\n",
    "#     paragrap.write(j)\n",
    "#     paragrap.close()"
   ]
  },
  {
   "cell_type": "code",
   "execution_count": null,
   "id": "988f370b",
   "metadata": {},
   "outputs": [],
   "source": [
    "# file = (\"Record.docx\", \"r\")\n",
    "\n",
    "dict = {}\n",
    "\n",
    "with open(\"Record.docx\", \"r\") as paragraphs:\n",
    "        for d in paragraphs:\n",
    "            key, desc = d.strip().split()\n",
    "            dict[key] = desc.strip()\n",
    "        \n",
    "outfile = open(\"My record0033.json\", \"w\")\n",
    "json.dump(dict,outfile)\n",
    "outfile.close()"
   ]
  },
  {
   "cell_type": "code",
   "execution_count": null,
   "id": "66aa2701",
   "metadata": {},
   "outputs": [],
   "source": [
    "# Opening JSON file\n",
    "f = open('Data Contoh.json')\n",
    " \n",
    "# returns JSON object as\n",
    "# a dictionary\n",
    "data = json.loads(fileobject.read(f))\n",
    " \n",
    "# Iterating through the json\n",
    "# list\n",
    "for i in data['emp_details']:\n",
    "    print(i)\n",
    " \n",
    "# Closing file\n",
    "f.close()"
   ]
  },
  {
   "cell_type": "code",
   "execution_count": null,
   "id": "91c6a1e7",
   "metadata": {},
   "outputs": [],
   "source": [
    "def write_json(new_data, filename='data.json'):\n",
    "    with open(filename,'r+') as file:\n",
    "          # First we load existing data into a dict.\n",
    "        file_data = json.load(file)\n",
    "        # Join new_data with file_data inside emp_details\n",
    "        file_data[\"emp_details\"].append(new_data)\n",
    "        # Sets file's current position at offset.\n",
    "        file.seek(0)\n",
    "        # convert back to json.\n",
    "        json.dump(file_data, file, indent = 2)\n",
    " \n",
    "    # python object to be appended\n",
    "y = docx.Document()\n",
    "     \n",
    "write_json(y)"
   ]
  },
  {
   "cell_type": "code",
   "execution_count": null,
   "id": "c25832ca",
   "metadata": {},
   "outputs": [],
   "source": [
    "# resultant dictionary\n",
    "dict1 = {}\n",
    "  \n",
    "# fields in the sample file \n",
    "fields =[name, isi]\n",
    "  \n",
    "for sentences in paragraphs:\n",
    "    doc = docx.Document()\n",
    "    \n",
    "      \n",
    "    # count variable for employee id creation\n",
    "    l = 1\n",
    "      \n",
    "    for paragraph in doc.paragraphs:\n",
    "          \n",
    "        # reading line by line from the text file\n",
    "        description = list( paragraph.strip().split(None, 2))\n",
    "          \n",
    "        # for output see below\n",
    "        print(description)\n",
    "          \n",
    "        # for automatic creation of id for each employee\n",
    "        sno ='emp'+str(l)\n",
    "      \n",
    "        # loop variable\n",
    "        i = 0\n",
    "        # intermediate dictionary\n",
    "        dict2 = {}\n",
    "        while i<len(fields):\n",
    "              \n",
    "                # creating dictionary for each employee\n",
    "                dict2[fields[i]]= description[i]\n",
    "                i = i + 1\n",
    "                  \n",
    "        # appending the record of each employee to\n",
    "        # the main dictionary\n",
    "        dict1[sno]= dict2\n",
    "        l = l + 1\n",
    "  \n",
    "  \n",
    "# creating json file        \n",
    "out_file = open(\"test5.json\", \"w\")\n",
    "json.dump(dict1, out_file, indent = 2)\n",
    "out_file.close()"
   ]
  },
  {
   "cell_type": "code",
   "execution_count": null,
   "id": "284a54e3",
   "metadata": {},
   "outputs": [],
   "source": [
    "print(text)"
   ]
  },
  {
   "cell_type": "code",
   "execution_count": null,
   "id": "5aed1cf1",
   "metadata": {},
   "outputs": [],
   "source": [
    "map_ = {}\n",
    "for i in range(1,len(text),2):\n",
    "    map_[text[i-1]] = map_.get(text[i-1],'') + text[i]"
   ]
  },
  {
   "cell_type": "code",
   "execution_count": null,
   "id": "1fa9368c",
   "metadata": {},
   "outputs": [],
   "source": [
    "s = \"\"\"Mr. Smith bought cheapsite.com for 1.5 million dollars, i.e. he paid a lot for it. Did he mind? Adam Jones Jr. thinks he didn't. In any case, this isn't true... Well, with a probability of .9 it isn't.\"\"\"\n",
    "m = re.split(r'(?<=[^A-Z].[.?]) +(?=[A-Z])', s)\n",
    "for x in m:\n",
    "    print (x)"
   ]
  },
  {
   "cell_type": "code",
   "execution_count": null,
   "id": "64678bfc",
   "metadata": {},
   "outputs": [],
   "source": [
    "print = (\"Selamat datang di Program Biodata\")\n",
    "print = (\"=================================\")\n",
    "\n",
    "# Ambil input dari user\n",
    "nama = input(\"Nama: \")\n",
    "umur = input(\"Umur: \")\n",
    "alamat = input(\"Alamat: \")\n",
    "\n",
    "# format teks\n",
    "teks = \"\\nNama: {}\\nUmur: {}\\nAlamat: {}\\n----------\".format(nama, umur, alamat)\n",
    "\n",
    "# buka file untuk ditulis\n",
    "file_bio = open(\"biodata.txt\", \"a\")\n",
    "\n",
    "# tulis teks ke file\n",
    "file_bio.write(teks)\n",
    "\n",
    "# tutup file\n",
    "file_bio.close()"
   ]
  },
  {
   "cell_type": "code",
   "execution_count": null,
   "id": "56b5bc1a",
   "metadata": {},
   "outputs": [],
   "source": [
    "print = ('hello world')"
   ]
  },
  {
   "cell_type": "code",
   "execution_count": null,
   "id": "1e85db8b",
   "metadata": {},
   "outputs": [],
   "source": []
  }
 ],
 "metadata": {
  "kernelspec": {
   "display_name": "Python 3",
   "language": "python",
   "name": "python3"
  },
  "language_info": {
   "codemirror_mode": {
    "name": "ipython",
    "version": 3
   },
   "file_extension": ".py",
   "mimetype": "text/x-python",
   "name": "python",
   "nbconvert_exporter": "python",
   "pygments_lexer": "ipython3",
   "version": "3.8.8"
  }
 },
 "nbformat": 4,
 "nbformat_minor": 5
}
