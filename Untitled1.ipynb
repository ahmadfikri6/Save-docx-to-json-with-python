{
 "cells": [
  {
   "cell_type": "code",
   "execution_count": 3,
   "id": "aa3be02e",
   "metadata": {},
   "outputs": [
    {
     "data": {
      "text/plain": [
       "'C:\\\\Users\\\\Fikri\\\\Documents\\\\Jupyter\\\\Text To Speech Widaya Wicara\\\\Train 1'"
      ]
     },
     "execution_count": 3,
     "metadata": {},
     "output_type": "execute_result"
    }
   ],
   "source": [
    "import docx\n",
    "import os\n",
    "import re\n",
    "os.getcwd()"
   ]
  },
  {
   "cell_type": "code",
   "execution_count": 5,
   "id": "3631d752",
   "metadata": {},
   "outputs": [
    {
     "ename": "TypeError",
     "evalue": "expected string or bytes-like object",
     "output_type": "error",
     "traceback": [
      "\u001b[1;31m---------------------------------------------------------------------------\u001b[0m",
      "\u001b[1;31mTypeError\u001b[0m                                 Traceback (most recent call last)",
      "\u001b[1;32m<ipython-input-5-9e9bb778f444>\u001b[0m in \u001b[0;36m<module>\u001b[1;34m\u001b[0m\n\u001b[0;32m      1\u001b[0m \u001b[0mdoc\u001b[0m \u001b[1;33m=\u001b[0m \u001b[0mdocx\u001b[0m\u001b[1;33m.\u001b[0m\u001b[0mDocument\u001b[0m\u001b[1;33m(\u001b[0m\u001b[1;34m'Record.docx'\u001b[0m\u001b[1;33m)\u001b[0m\u001b[1;33m\u001b[0m\u001b[1;33m\u001b[0m\u001b[0m\n\u001b[1;32m----> 2\u001b[1;33m \u001b[0msentencee\u001b[0m \u001b[1;33m=\u001b[0m \u001b[0mre\u001b[0m\u001b[1;33m.\u001b[0m\u001b[0mfindall\u001b[0m\u001b[1;33m(\u001b[0m\u001b[1;34mr'([a-zA-Z]+)\\:([\\w]+[\\D]+\\.)'\u001b[0m\u001b[1;33m,\u001b[0m\u001b[0mdoc\u001b[0m\u001b[1;33m)\u001b[0m\u001b[1;33m\u001b[0m\u001b[1;33m\u001b[0m\u001b[0m\n\u001b[0m\u001b[0;32m      3\u001b[0m \u001b[0msentencee\u001b[0m\u001b[1;33m.\u001b[0m\u001b[0mparagraphs\u001b[0m\u001b[1;33m\u001b[0m\u001b[1;33m\u001b[0m\u001b[0m\n",
      "\u001b[1;32m~\\anaconda3\\lib\\re.py\u001b[0m in \u001b[0;36mfindall\u001b[1;34m(pattern, string, flags)\u001b[0m\n\u001b[0;32m    239\u001b[0m \u001b[1;33m\u001b[0m\u001b[0m\n\u001b[0;32m    240\u001b[0m     Empty matches are included in the result.\"\"\"\n\u001b[1;32m--> 241\u001b[1;33m     \u001b[1;32mreturn\u001b[0m \u001b[0m_compile\u001b[0m\u001b[1;33m(\u001b[0m\u001b[0mpattern\u001b[0m\u001b[1;33m,\u001b[0m \u001b[0mflags\u001b[0m\u001b[1;33m)\u001b[0m\u001b[1;33m.\u001b[0m\u001b[0mfindall\u001b[0m\u001b[1;33m(\u001b[0m\u001b[0mstring\u001b[0m\u001b[1;33m)\u001b[0m\u001b[1;33m\u001b[0m\u001b[1;33m\u001b[0m\u001b[0m\n\u001b[0m\u001b[0;32m    242\u001b[0m \u001b[1;33m\u001b[0m\u001b[0m\n\u001b[0;32m    243\u001b[0m \u001b[1;32mdef\u001b[0m \u001b[0mfinditer\u001b[0m\u001b[1;33m(\u001b[0m\u001b[0mpattern\u001b[0m\u001b[1;33m,\u001b[0m \u001b[0mstring\u001b[0m\u001b[1;33m,\u001b[0m \u001b[0mflags\u001b[0m\u001b[1;33m=\u001b[0m\u001b[1;36m0\u001b[0m\u001b[1;33m)\u001b[0m\u001b[1;33m:\u001b[0m\u001b[1;33m\u001b[0m\u001b[1;33m\u001b[0m\u001b[0m\n",
      "\u001b[1;31mTypeError\u001b[0m: expected string or bytes-like object"
     ]
    }
   ],
   "source": [
    "doc = docx.Document('Record.docx')\n",
    "sentencee = re.findall(r'([a-zA-Z]+)\\:([\\w]+[\\D]+\\.)',doc)\n",
    "sentencee.paragraphs"
   ]
  },
  {
   "cell_type": "code",
   "execution_count": 13,
   "id": "12a7dce7",
   "metadata": {},
   "outputs": [
    {
     "data": {
      "text/plain": [
       "'telur.'"
      ]
     },
     "execution_count": 13,
     "metadata": {},
     "output_type": "execute_result"
    }
   ],
   "source": [
    "doc.paragraphs[57].text"
   ]
  },
  {
   "cell_type": "code",
   "execution_count": 4,
   "id": "51227081",
   "metadata": {},
   "outputs": [
    {
     "data": {
      "text/plain": [
       "'2021-12-20 16:49:57_yoga:'"
      ]
     },
     "execution_count": 4,
     "metadata": {},
     "output_type": "execute_result"
    }
   ],
   "source": [
    "doc.paragraphs[20].text"
   ]
  },
  {
   "cell_type": "code",
   "execution_count": 5,
   "id": "ccadad62",
   "metadata": {},
   "outputs": [
    {
     "data": {
      "text/plain": [
       "'cek cek cek.'"
      ]
     },
     "execution_count": 5,
     "metadata": {},
     "output_type": "execute_result"
    }
   ],
   "source": [
    "doc.paragraphs[21].text"
   ]
  },
  {
   "cell_type": "code",
   "execution_count": 6,
   "id": "8abb1982",
   "metadata": {},
   "outputs": [
    {
     "ename": "SyntaxError",
     "evalue": "invalid syntax (<ipython-input-6-cb992bd8b05f>, line 5)",
     "output_type": "error",
     "traceback": [
      "\u001b[1;36m  File \u001b[1;32m\"<ipython-input-6-cb992bd8b05f>\"\u001b[1;36m, line \u001b[1;32m5\u001b[0m\n\u001b[1;33m    static const std::string json_data_from_file = R\"({\u001b[0m\n\u001b[1;37m           ^\u001b[0m\n\u001b[1;31mSyntaxError\u001b[0m\u001b[1;31m:\u001b[0m invalid syntax\n"
     ]
    }
   ],
   "source": [
    "import iostream\n",
    "import string\n",
    "import json\n",
    "\n",
    "static const std::string json_data_from_file = R\"({\n",
    "\"dictionary\": [{\n",
    "               \"word\": \"MEAGRE\",\n",
    "               \"definition\": \"A large European scinoid fish (Scina umbra or S. aquila),having white bloodless flesh. It is valued as a food fish. [Writtenalso maigre.]\"\n",
    "               },\n",
    "               {\n",
    "               \"word\": \"GRUGRU WORM\",\n",
    "               \"definition\": \"The larva or grub of a large South American beetle (Calandrapalmarum), which lives in the pith of palm trees and sugar cane. Itis eaten by the natives, and esteemed a delicacy.\"\n",
    "               }\n",
    "               ]\n",
    "})\";\n",
    "\n",
    "int main(int argc, const char * argv[]) {\n",
    "    std::cout << \"json data:\\n\" << json_data_from_file << \"\\n\";\n",
    "\n",
    "    try\n",
    "    {\n",
    "        // Now attempt to convert file data to json\n",
    "        json jdict = json::parse(json_data_from_file);\n",
    "        json j = json::parse(jdict[\"dictionary\"].dump());\n",
    "        for (const auto& i : j) {\n",
    "            json jsonobj( i );\n",
    "            std::string word = jsonobj[\"word\"].dump();\n",
    "            std::cout << \"word: \" << word << \"\\n\";\n",
    "            std::string definition = jsonobj[\"definition\"].dump();\n",
    "            std::cout << \"definition: \" << definition << \"\\n\";\n",
    "        }\n",
    "    }\n",
    "    catch (const std::exception& e) {\n",
    "        //...\n",
    "    }\n",
    "    catch (...)\n",
    "    {\n",
    "        //...\n",
    "    }\n",
    "\n",
    "    return 0;\n",
    "}"
   ]
  },
  {
   "cell_type": "code",
   "execution_count": null,
   "id": "716cb073",
   "metadata": {},
   "outputs": [],
   "source": []
  }
 ],
 "metadata": {
  "kernelspec": {
   "display_name": "Python 3",
   "language": "python",
   "name": "python3"
  },
  "language_info": {
   "codemirror_mode": {
    "name": "ipython",
    "version": 3
   },
   "file_extension": ".py",
   "mimetype": "text/x-python",
   "name": "python",
   "nbconvert_exporter": "python",
   "pygments_lexer": "ipython3",
   "version": "3.8.8"
  }
 },
 "nbformat": 4,
 "nbformat_minor": 5
}
